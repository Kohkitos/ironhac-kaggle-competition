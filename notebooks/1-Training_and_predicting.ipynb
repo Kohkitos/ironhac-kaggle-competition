{
 "cells": [
  {
   "cell_type": "markdown",
   "id": "1a1afb27",
   "metadata": {},
   "source": [
    "# Transformation pipeline"
   ]
  },
  {
   "cell_type": "code",
   "execution_count": 1,
   "id": "e4b4b813",
   "metadata": {},
   "outputs": [],
   "source": [
    "# libraries\n",
    "import pandas as pd\n",
    "pd.set_option('display.max_columns', None)\n",
    "import numpy as np\n",
    "\n",
    "from sklearn.preprocessing import MinMaxScaler"
   ]
  },
  {
   "cell_type": "code",
   "execution_count": 2,
   "id": "15dbe545",
   "metadata": {},
   "outputs": [],
   "source": [
    "df = pd.read_csv('../data/train.csv')"
   ]
  },
  {
   "cell_type": "code",
   "execution_count": 3,
   "id": "f0ce6520",
   "metadata": {},
   "outputs": [],
   "source": [
    "# a list with all amenities\n",
    "amenilist = ['\"Air conditioning\"',\n",
    " '\"Family/kid friendly\"',\n",
    " '\"Wireless Internet\"',\n",
    " 'Essentials',\n",
    " 'Hangers',\n",
    " 'Internet',\n",
    " 'Iron',\n",
    " 'Kitchen',\n",
    " 'Shampoo',\n",
    " 'TV']"
   ]
  },
  {
   "cell_type": "code",
   "execution_count": 4,
   "id": "92a1bfbb",
   "metadata": {},
   "outputs": [],
   "source": [
    "for e in amenilist:\n",
    "    df[e] = df.amenities.apply(lambda x: 1 if e in x else 0)"
   ]
  },
  {
   "cell_type": "code",
   "execution_count": 5,
   "id": "5e510060",
   "metadata": {},
   "outputs": [],
   "source": [
    "# drop columns with too many unique values\n",
    "\n",
    "df.drop(['id', 'first_review', 'zipcode', 'thumbnail_url', 'amenities', 'description', 'name','longitude', 'latitude'],\n",
    "        axis=1, inplace=True)"
   ]
  },
  {
   "cell_type": "markdown",
   "id": "138cefe7",
   "metadata": {},
   "source": [
    "First, the categorical columns with too many values are going to be categorized according to their top 5 values."
   ]
  },
  {
   "cell_type": "code",
   "execution_count": 6,
   "id": "dc21f33d",
   "metadata": {},
   "outputs": [
    {
     "data": {
      "text/plain": [
       "Apartment      39158\n",
       "House          13295\n",
       "Condominium     2103\n",
       "Townhouse       1341\n",
       "Loft             992\n",
       "Name: property_type, dtype: int64"
      ]
     },
     "execution_count": 6,
     "metadata": {},
     "output_type": "execute_result"
    }
   ],
   "source": [
    "df.property_type.value_counts()[:5]"
   ]
  },
  {
   "cell_type": "code",
   "execution_count": 7,
   "id": "5ef65a7c",
   "metadata": {},
   "outputs": [
    {
     "data": {
      "text/plain": [
       "Williamsburg          2276\n",
       "Bedford-Stuyvesant    1686\n",
       "Bushwick              1281\n",
       "Upper West Side       1151\n",
       "Harlem                1112\n",
       "Name: neighbourhood, dtype: int64"
      ]
     },
     "execution_count": 7,
     "metadata": {},
     "output_type": "execute_result"
    }
   ],
   "source": [
    "df.neighbourhood.value_counts()[:5]"
   ]
  },
  {
   "cell_type": "code",
   "execution_count": 8,
   "id": "911b9fe5",
   "metadata": {},
   "outputs": [],
   "source": [
    "top_5 = ['Apartment', 'House', 'Condominium', 'Townhouse', 'Loft']\n",
    "\n",
    "df.property_type = df.property_type.apply(lambda x: x if x in top_5 else 'Other')\n",
    "\n",
    "top_5 = ['Williamsburg', 'Bedford-Stuyvesant', 'Bushwick', 'Upper West Side', 'Harlem']\n",
    "\n",
    "df.neighbourhood = df.neighbourhood.apply(lambda x: x if x in top_5 else 'Other')"
   ]
  },
  {
   "cell_type": "markdown",
   "id": "85476972",
   "metadata": {},
   "source": [
    "Now, bool columns will be normalized."
   ]
  },
  {
   "cell_type": "code",
   "execution_count": 9,
   "id": "87bf15f4",
   "metadata": {},
   "outputs": [],
   "source": [
    "# cleaning_fee has trues and falses, changing the dtype change it to 0 and 1\n",
    "df.cleaning_fee = df.cleaning_fee.astype(int)"
   ]
  },
  {
   "cell_type": "code",
   "execution_count": 10,
   "id": "138553fa",
   "metadata": {},
   "outputs": [],
   "source": [
    "# we will check how long ago was the last review\n",
    "df['last_review'] = pd.to_datetime(df['last_review'])\n",
    "most_recent = df.last_review.max()\n",
    "\n",
    "def month_difference(row):\n",
    "    if pd.isnull(row['last_review']):\n",
    "        return None\n",
    "    diff = most_recent - row['last_review']\n",
    "    return int(diff.days / 30)\n",
    "\n",
    "df.last_review = df.apply(month_difference, axis=1)\n",
    "df.last_review.fillna(0, inplace=True)"
   ]
  },
  {
   "cell_type": "code",
   "execution_count": 11,
   "id": "96420c62",
   "metadata": {},
   "outputs": [],
   "source": [
    "# changing t and f to 1/0, while also treating nan as 0\n",
    "df.host_has_profile_pic = df.host_has_profile_pic.apply(lambda x: 1 if x == 't' else 0)\n",
    "df.host_identity_verified = df.host_identity_verified.apply(lambda x: 1 if x == 't' else 0)\n",
    "df.instant_bookable = df.instant_bookable.apply(lambda x: 1 if x == 't' else 0)"
   ]
  },
  {
   "cell_type": "markdown",
   "id": "c333280d",
   "metadata": {},
   "source": [
    "The column host_response_rate will be changed to float and nan is going to be treated as no response."
   ]
  },
  {
   "cell_type": "code",
   "execution_count": 12,
   "id": "959ed3cf",
   "metadata": {},
   "outputs": [],
   "source": [
    "df.host_response_rate.fillna(0, inplace=True)\n",
    "\n",
    "df.host_response_rate = df.host_response_rate.apply(lambda x: float(x.strip('%')) / 100 if x != 0 else x)"
   ]
  },
  {
   "cell_type": "markdown",
   "id": "25ee39d3",
   "metadata": {},
   "source": [
    "Host_since just the years"
   ]
  },
  {
   "cell_type": "code",
   "execution_count": 13,
   "id": "105f77d1",
   "metadata": {},
   "outputs": [],
   "source": [
    "df['host_since'] = df['host_since'].apply(lambda x: 0 if pd.isnull(x) else int(x.split('-')[0]))"
   ]
  },
  {
   "cell_type": "markdown",
   "id": "01fb9583",
   "metadata": {},
   "source": [
    "Normalize numeric columns"
   ]
  },
  {
   "cell_type": "code",
   "execution_count": 14,
   "id": "1350429e",
   "metadata": {},
   "outputs": [],
   "source": [
    "# num_cols = ['accommodates', 'bathrooms', 'last_review', 'number_of_reviews', 'review_scores_rating',\n",
    "#            'bedrooms', 'beds', 'host_since']\n",
    "\n",
    "# scaler = MinMaxScaler()\n",
    "# df[num_cols] = scaler.fit_transform(df[num_cols])"
   ]
  },
  {
   "cell_type": "markdown",
   "id": "2b956c68",
   "metadata": {},
   "source": [
    "Finally, we will create dummy columns for all categorical columns so that we can process it through our machine learning model."
   ]
  },
  {
   "cell_type": "code",
   "execution_count": 15,
   "id": "6053119b",
   "metadata": {},
   "outputs": [
    {
     "data": {
      "text/html": [
       "<div>\n",
       "<style scoped>\n",
       "    .dataframe tbody tr th:only-of-type {\n",
       "        vertical-align: middle;\n",
       "    }\n",
       "\n",
       "    .dataframe tbody tr th {\n",
       "        vertical-align: top;\n",
       "    }\n",
       "\n",
       "    .dataframe thead th {\n",
       "        text-align: right;\n",
       "    }\n",
       "</style>\n",
       "<table border=\"1\" class=\"dataframe\">\n",
       "  <thead>\n",
       "    <tr style=\"text-align: right;\">\n",
       "      <th></th>\n",
       "      <th>log_price</th>\n",
       "      <th>accommodates</th>\n",
       "      <th>bathrooms</th>\n",
       "      <th>cleaning_fee</th>\n",
       "      <th>host_has_profile_pic</th>\n",
       "      <th>host_identity_verified</th>\n",
       "      <th>host_response_rate</th>\n",
       "      <th>host_since</th>\n",
       "      <th>instant_bookable</th>\n",
       "      <th>last_review</th>\n",
       "      <th>number_of_reviews</th>\n",
       "      <th>review_scores_rating</th>\n",
       "      <th>bedrooms</th>\n",
       "      <th>beds</th>\n",
       "      <th>\"Air conditioning\"</th>\n",
       "      <th>\"Family/kid friendly\"</th>\n",
       "      <th>\"Wireless Internet\"</th>\n",
       "      <th>Essentials</th>\n",
       "      <th>Hangers</th>\n",
       "      <th>Internet</th>\n",
       "      <th>Iron</th>\n",
       "      <th>Kitchen</th>\n",
       "      <th>Shampoo</th>\n",
       "      <th>TV</th>\n",
       "      <th>property_type_Condominium</th>\n",
       "      <th>property_type_House</th>\n",
       "      <th>property_type_Loft</th>\n",
       "      <th>property_type_Other</th>\n",
       "      <th>property_type_Townhouse</th>\n",
       "      <th>room_type_Private room</th>\n",
       "      <th>room_type_Shared room</th>\n",
       "      <th>bed_type_Couch</th>\n",
       "      <th>bed_type_Futon</th>\n",
       "      <th>bed_type_Pull-out Sofa</th>\n",
       "      <th>bed_type_Real Bed</th>\n",
       "      <th>cancellation_policy_moderate</th>\n",
       "      <th>cancellation_policy_strict</th>\n",
       "      <th>cancellation_policy_super_strict_30</th>\n",
       "      <th>cancellation_policy_super_strict_60</th>\n",
       "      <th>city_Chicago</th>\n",
       "      <th>city_DC</th>\n",
       "      <th>city_LA</th>\n",
       "      <th>city_NYC</th>\n",
       "      <th>city_SF</th>\n",
       "      <th>neighbourhood_Bushwick</th>\n",
       "      <th>neighbourhood_Harlem</th>\n",
       "      <th>neighbourhood_Other</th>\n",
       "      <th>neighbourhood_Upper West Side</th>\n",
       "      <th>neighbourhood_Williamsburg</th>\n",
       "    </tr>\n",
       "  </thead>\n",
       "  <tbody>\n",
       "    <tr>\n",
       "      <th>0</th>\n",
       "      <td>4.499810</td>\n",
       "      <td>2</td>\n",
       "      <td>1.0</td>\n",
       "      <td>1</td>\n",
       "      <td>1</td>\n",
       "      <td>1</td>\n",
       "      <td>0.8</td>\n",
       "      <td>2015</td>\n",
       "      <td>0</td>\n",
       "      <td>0.0</td>\n",
       "      <td>9</td>\n",
       "      <td>96.0</td>\n",
       "      <td>1.0</td>\n",
       "      <td>1.0</td>\n",
       "      <td>1</td>\n",
       "      <td>1</td>\n",
       "      <td>1</td>\n",
       "      <td>1</td>\n",
       "      <td>1</td>\n",
       "      <td>1</td>\n",
       "      <td>1</td>\n",
       "      <td>1</td>\n",
       "      <td>1</td>\n",
       "      <td>1</td>\n",
       "      <td>0</td>\n",
       "      <td>0</td>\n",
       "      <td>0</td>\n",
       "      <td>0</td>\n",
       "      <td>0</td>\n",
       "      <td>0</td>\n",
       "      <td>0</td>\n",
       "      <td>0</td>\n",
       "      <td>0</td>\n",
       "      <td>0</td>\n",
       "      <td>1</td>\n",
       "      <td>0</td>\n",
       "      <td>0</td>\n",
       "      <td>0</td>\n",
       "      <td>0</td>\n",
       "      <td>0</td>\n",
       "      <td>0</td>\n",
       "      <td>0</td>\n",
       "      <td>1</td>\n",
       "      <td>0</td>\n",
       "      <td>0</td>\n",
       "      <td>0</td>\n",
       "      <td>1</td>\n",
       "      <td>0</td>\n",
       "      <td>0</td>\n",
       "    </tr>\n",
       "    <tr>\n",
       "      <th>1</th>\n",
       "      <td>3.970292</td>\n",
       "      <td>2</td>\n",
       "      <td>1.0</td>\n",
       "      <td>1</td>\n",
       "      <td>1</td>\n",
       "      <td>1</td>\n",
       "      <td>0.0</td>\n",
       "      <td>2014</td>\n",
       "      <td>0</td>\n",
       "      <td>9.0</td>\n",
       "      <td>8</td>\n",
       "      <td>100.0</td>\n",
       "      <td>1.0</td>\n",
       "      <td>1.0</td>\n",
       "      <td>1</td>\n",
       "      <td>0</td>\n",
       "      <td>1</td>\n",
       "      <td>1</td>\n",
       "      <td>0</td>\n",
       "      <td>1</td>\n",
       "      <td>0</td>\n",
       "      <td>1</td>\n",
       "      <td>0</td>\n",
       "      <td>0</td>\n",
       "      <td>0</td>\n",
       "      <td>0</td>\n",
       "      <td>0</td>\n",
       "      <td>0</td>\n",
       "      <td>0</td>\n",
       "      <td>1</td>\n",
       "      <td>0</td>\n",
       "      <td>0</td>\n",
       "      <td>1</td>\n",
       "      <td>0</td>\n",
       "      <td>0</td>\n",
       "      <td>0</td>\n",
       "      <td>1</td>\n",
       "      <td>0</td>\n",
       "      <td>0</td>\n",
       "      <td>0</td>\n",
       "      <td>0</td>\n",
       "      <td>0</td>\n",
       "      <td>1</td>\n",
       "      <td>0</td>\n",
       "      <td>0</td>\n",
       "      <td>0</td>\n",
       "      <td>1</td>\n",
       "      <td>0</td>\n",
       "      <td>0</td>\n",
       "    </tr>\n",
       "    <tr>\n",
       "      <th>2</th>\n",
       "      <td>4.787492</td>\n",
       "      <td>4</td>\n",
       "      <td>1.0</td>\n",
       "      <td>1</td>\n",
       "      <td>1</td>\n",
       "      <td>1</td>\n",
       "      <td>1.0</td>\n",
       "      <td>2011</td>\n",
       "      <td>0</td>\n",
       "      <td>0.0</td>\n",
       "      <td>12</td>\n",
       "      <td>100.0</td>\n",
       "      <td>1.0</td>\n",
       "      <td>1.0</td>\n",
       "      <td>1</td>\n",
       "      <td>1</td>\n",
       "      <td>1</td>\n",
       "      <td>1</td>\n",
       "      <td>1</td>\n",
       "      <td>1</td>\n",
       "      <td>0</td>\n",
       "      <td>1</td>\n",
       "      <td>0</td>\n",
       "      <td>0</td>\n",
       "      <td>0</td>\n",
       "      <td>0</td>\n",
       "      <td>0</td>\n",
       "      <td>0</td>\n",
       "      <td>0</td>\n",
       "      <td>0</td>\n",
       "      <td>0</td>\n",
       "      <td>0</td>\n",
       "      <td>0</td>\n",
       "      <td>0</td>\n",
       "      <td>1</td>\n",
       "      <td>1</td>\n",
       "      <td>0</td>\n",
       "      <td>0</td>\n",
       "      <td>0</td>\n",
       "      <td>0</td>\n",
       "      <td>0</td>\n",
       "      <td>0</td>\n",
       "      <td>1</td>\n",
       "      <td>0</td>\n",
       "      <td>0</td>\n",
       "      <td>0</td>\n",
       "      <td>0</td>\n",
       "      <td>0</td>\n",
       "      <td>0</td>\n",
       "    </tr>\n",
       "    <tr>\n",
       "      <th>3</th>\n",
       "      <td>4.700480</td>\n",
       "      <td>3</td>\n",
       "      <td>0.0</td>\n",
       "      <td>0</td>\n",
       "      <td>1</td>\n",
       "      <td>0</td>\n",
       "      <td>0.0</td>\n",
       "      <td>2011</td>\n",
       "      <td>0</td>\n",
       "      <td>45.0</td>\n",
       "      <td>2</td>\n",
       "      <td>90.0</td>\n",
       "      <td>1.0</td>\n",
       "      <td>1.0</td>\n",
       "      <td>1</td>\n",
       "      <td>1</td>\n",
       "      <td>1</td>\n",
       "      <td>1</td>\n",
       "      <td>0</td>\n",
       "      <td>1</td>\n",
       "      <td>0</td>\n",
       "      <td>1</td>\n",
       "      <td>0</td>\n",
       "      <td>0</td>\n",
       "      <td>0</td>\n",
       "      <td>0</td>\n",
       "      <td>0</td>\n",
       "      <td>0</td>\n",
       "      <td>0</td>\n",
       "      <td>0</td>\n",
       "      <td>0</td>\n",
       "      <td>0</td>\n",
       "      <td>0</td>\n",
       "      <td>0</td>\n",
       "      <td>1</td>\n",
       "      <td>1</td>\n",
       "      <td>0</td>\n",
       "      <td>0</td>\n",
       "      <td>0</td>\n",
       "      <td>0</td>\n",
       "      <td>0</td>\n",
       "      <td>0</td>\n",
       "      <td>1</td>\n",
       "      <td>0</td>\n",
       "      <td>0</td>\n",
       "      <td>0</td>\n",
       "      <td>1</td>\n",
       "      <td>0</td>\n",
       "      <td>0</td>\n",
       "    </tr>\n",
       "    <tr>\n",
       "      <th>4</th>\n",
       "      <td>5.192957</td>\n",
       "      <td>3</td>\n",
       "      <td>1.0</td>\n",
       "      <td>1</td>\n",
       "      <td>1</td>\n",
       "      <td>0</td>\n",
       "      <td>0.0</td>\n",
       "      <td>2012</td>\n",
       "      <td>0</td>\n",
       "      <td>16.0</td>\n",
       "      <td>1</td>\n",
       "      <td>80.0</td>\n",
       "      <td>1.0</td>\n",
       "      <td>1.0</td>\n",
       "      <td>1</td>\n",
       "      <td>0</td>\n",
       "      <td>1</td>\n",
       "      <td>1</td>\n",
       "      <td>0</td>\n",
       "      <td>1</td>\n",
       "      <td>0</td>\n",
       "      <td>1</td>\n",
       "      <td>0</td>\n",
       "      <td>1</td>\n",
       "      <td>0</td>\n",
       "      <td>0</td>\n",
       "      <td>0</td>\n",
       "      <td>0</td>\n",
       "      <td>0</td>\n",
       "      <td>0</td>\n",
       "      <td>0</td>\n",
       "      <td>0</td>\n",
       "      <td>0</td>\n",
       "      <td>0</td>\n",
       "      <td>1</td>\n",
       "      <td>0</td>\n",
       "      <td>1</td>\n",
       "      <td>0</td>\n",
       "      <td>0</td>\n",
       "      <td>0</td>\n",
       "      <td>0</td>\n",
       "      <td>0</td>\n",
       "      <td>1</td>\n",
       "      <td>0</td>\n",
       "      <td>0</td>\n",
       "      <td>0</td>\n",
       "      <td>1</td>\n",
       "      <td>0</td>\n",
       "      <td>0</td>\n",
       "    </tr>\n",
       "  </tbody>\n",
       "</table>\n",
       "</div>"
      ],
      "text/plain": [
       "   log_price  accommodates  bathrooms  cleaning_fee  host_has_profile_pic  \\\n",
       "0   4.499810             2        1.0             1                     1   \n",
       "1   3.970292             2        1.0             1                     1   \n",
       "2   4.787492             4        1.0             1                     1   \n",
       "3   4.700480             3        0.0             0                     1   \n",
       "4   5.192957             3        1.0             1                     1   \n",
       "\n",
       "   host_identity_verified  host_response_rate  host_since  instant_bookable  \\\n",
       "0                       1                 0.8        2015                 0   \n",
       "1                       1                 0.0        2014                 0   \n",
       "2                       1                 1.0        2011                 0   \n",
       "3                       0                 0.0        2011                 0   \n",
       "4                       0                 0.0        2012                 0   \n",
       "\n",
       "   last_review  number_of_reviews  review_scores_rating  bedrooms  beds  \\\n",
       "0          0.0                  9                  96.0       1.0   1.0   \n",
       "1          9.0                  8                 100.0       1.0   1.0   \n",
       "2          0.0                 12                 100.0       1.0   1.0   \n",
       "3         45.0                  2                  90.0       1.0   1.0   \n",
       "4         16.0                  1                  80.0       1.0   1.0   \n",
       "\n",
       "   \"Air conditioning\"  \"Family/kid friendly\"  \"Wireless Internet\"  Essentials  \\\n",
       "0                   1                      1                    1           1   \n",
       "1                   1                      0                    1           1   \n",
       "2                   1                      1                    1           1   \n",
       "3                   1                      1                    1           1   \n",
       "4                   1                      0                    1           1   \n",
       "\n",
       "   Hangers  Internet  Iron  Kitchen  Shampoo  TV  property_type_Condominium  \\\n",
       "0        1         1     1        1        1   1                          0   \n",
       "1        0         1     0        1        0   0                          0   \n",
       "2        1         1     0        1        0   0                          0   \n",
       "3        0         1     0        1        0   0                          0   \n",
       "4        0         1     0        1        0   1                          0   \n",
       "\n",
       "   property_type_House  property_type_Loft  property_type_Other  \\\n",
       "0                    0                   0                    0   \n",
       "1                    0                   0                    0   \n",
       "2                    0                   0                    0   \n",
       "3                    0                   0                    0   \n",
       "4                    0                   0                    0   \n",
       "\n",
       "   property_type_Townhouse  room_type_Private room  room_type_Shared room  \\\n",
       "0                        0                       0                      0   \n",
       "1                        0                       1                      0   \n",
       "2                        0                       0                      0   \n",
       "3                        0                       0                      0   \n",
       "4                        0                       0                      0   \n",
       "\n",
       "   bed_type_Couch  bed_type_Futon  bed_type_Pull-out Sofa  bed_type_Real Bed  \\\n",
       "0               0               0                       0                  1   \n",
       "1               0               1                       0                  0   \n",
       "2               0               0                       0                  1   \n",
       "3               0               0                       0                  1   \n",
       "4               0               0                       0                  1   \n",
       "\n",
       "   cancellation_policy_moderate  cancellation_policy_strict  \\\n",
       "0                             0                           0   \n",
       "1                             0                           1   \n",
       "2                             1                           0   \n",
       "3                             1                           0   \n",
       "4                             0                           1   \n",
       "\n",
       "   cancellation_policy_super_strict_30  cancellation_policy_super_strict_60  \\\n",
       "0                                    0                                    0   \n",
       "1                                    0                                    0   \n",
       "2                                    0                                    0   \n",
       "3                                    0                                    0   \n",
       "4                                    0                                    0   \n",
       "\n",
       "   city_Chicago  city_DC  city_LA  city_NYC  city_SF  neighbourhood_Bushwick  \\\n",
       "0             0        0        0         1        0                       0   \n",
       "1             0        0        0         1        0                       0   \n",
       "2             0        0        0         1        0                       0   \n",
       "3             0        0        0         1        0                       0   \n",
       "4             0        0        0         1        0                       0   \n",
       "\n",
       "   neighbourhood_Harlem  neighbourhood_Other  neighbourhood_Upper West Side  \\\n",
       "0                     0                    1                              0   \n",
       "1                     0                    1                              0   \n",
       "2                     0                    0                              0   \n",
       "3                     0                    1                              0   \n",
       "4                     0                    1                              0   \n",
       "\n",
       "   neighbourhood_Williamsburg  \n",
       "0                           0  \n",
       "1                           0  \n",
       "2                           0  \n",
       "3                           0  \n",
       "4                           0  "
      ]
     },
     "execution_count": 15,
     "metadata": {},
     "output_type": "execute_result"
    }
   ],
   "source": [
    "df_dummy = pd.get_dummies(df, columns=['property_type', 'room_type', 'bed_type', 'cancellation_policy', 'city', 'neighbourhood'], drop_first=True)\n",
    "df_dummy.fillna(0, inplace=True) # fill na with 0 just in case\n",
    "\n",
    "df_dummy.head()"
   ]
  },
  {
   "cell_type": "markdown",
   "id": "edecc7ea",
   "metadata": {},
   "source": [
    "# Training"
   ]
  },
  {
   "cell_type": "code",
   "execution_count": 16,
   "id": "9a3a1f6e",
   "metadata": {},
   "outputs": [],
   "source": [
    "# libraries\n",
    "from sklearn.model_selection import train_test_split as tts"
   ]
  },
  {
   "cell_type": "code",
   "execution_count": 17,
   "id": "98ff753a",
   "metadata": {},
   "outputs": [],
   "source": [
    "# we select our X and y (y being the log_price and X everything else)\n",
    "\n",
    "X = df_dummy.drop(['log_price'], axis=1)\n",
    "\n",
    "y = df_dummy.log_price"
   ]
  },
  {
   "cell_type": "code",
   "execution_count": 18,
   "id": "c6368fde",
   "metadata": {},
   "outputs": [],
   "source": [
    "# then we split X and y for our train and test\n",
    "X_train, X_test, y_train, y_test = tts(X, y, \n",
    "                                       train_size=0.8, \n",
    "                                       test_size=0.2,\n",
    "                                       random_state=42)"
   ]
  },
  {
   "cell_type": "markdown",
   "id": "c7eb23ce",
   "metadata": {},
   "source": [
    "To see which model fits best we will run this function"
   ]
  },
  {
   "cell_type": "code",
   "execution_count": null,
   "id": "746a5603",
   "metadata": {},
   "outputs": [],
   "source": [
    "from sklearn.linear_model import LinearRegression, Ridge, Lasso\n",
    "from sklearn.tree import DecisionTreeRegressor\n",
    "from sklearn.ensemble import RandomForestRegressor, GradientBoostingRegressor\n",
    "from sklearn.metrics import mean_squared_error\n",
    "import xgboost as xgb\n",
    "from catboost import CatBoostRegressor\n",
    "\n",
    "def model_test(X_train, y_train, X_test, y_test):\n",
    "    models = {\n",
    "        \"linear_regression\": LinearRegression(),\n",
    "        \"ridge_regression\": Ridge(),\n",
    "        \"lasso_regression\": Lasso(),\n",
    "        \"decision_tree_regressor\": DecisionTreeRegressor(),\n",
    "        \"random_forest_regressor\": RandomForestRegressor(n_estimators=100),\n",
    "        \"gradient_boosting_regressor\": GradientBoostingRegressor(n_estimators=100),\n",
    "        \"xgboost_regressor\": xgb.XGBRegressor(n_estimators=100),\n",
    "        \"catboost_regressor\": CatBoostRegressor(verbose=False),\n",
    "    }\n",
    "\n",
    "    for name, model in models.items():\n",
    "        model.fit(X_train, y_train)\n",
    "        y_pred = model.predict(X_test)\n",
    "        error = mean_squared_error(y_test, y_pred)\n",
    "\n",
    "        print(f\"Model: {name} - MSE: {error}\")\n"
   ]
  },
  {
   "cell_type": "code",
   "execution_count": null,
   "id": "38938763",
   "metadata": {
    "scrolled": false
   },
   "outputs": [],
   "source": [
    "model_test(X_train, y_train, X_test, y_test)"
   ]
  },
  {
   "cell_type": "markdown",
   "id": "f6c26802",
   "metadata": {},
   "source": [
    "For this particular case and with the models used, catboost_regressor is the most accurate, so we will be using that."
   ]
  },
  {
   "cell_type": "code",
   "execution_count": 24,
   "id": "17a0bca0",
   "metadata": {},
   "outputs": [
    {
     "data": {
      "text/plain": [
       "<catboost.core.CatBoostRegressor at 0x2a39d622710>"
      ]
     },
     "execution_count": 24,
     "metadata": {},
     "output_type": "execute_result"
    }
   ],
   "source": [
    "# we fit the model with the train dfs and make the y_pred\n",
    "model = CatBoostRegressor(verbose=False)\n",
    "model.fit(X_train, y_train)"
   ]
  },
  {
   "cell_type": "markdown",
   "id": "384c03ec",
   "metadata": {},
   "source": [
    "# Predictions"
   ]
  },
  {
   "cell_type": "markdown",
   "id": "4518207f",
   "metadata": {},
   "source": [
    "Now that the model has been trained, we will use it to predict the prices."
   ]
  },
  {
   "cell_type": "code",
   "execution_count": 25,
   "id": "988d40a6",
   "metadata": {},
   "outputs": [],
   "source": [
    "# first, load the df\n",
    "df = pd.read_csv('../data/test.csv')"
   ]
  },
  {
   "cell_type": "code",
   "execution_count": 26,
   "id": "66afd804",
   "metadata": {},
   "outputs": [],
   "source": [
    "# now the pipeline we created before \n",
    "amenilist = ['\"Air conditioning\"', '\"Family/kid friendly\"', '\"Wireless Internet\"',\n",
    "             'Essentials', 'Hangers', 'Internet', 'Iron', 'Kitchen', 'Shampoo', 'TV']\n",
    "\n",
    "for e in amenilist:\n",
    "    df[e] = df.amenities.apply(lambda x: 1 if e in x else 0)\n",
    "\n",
    "df.drop(['id', 'zipcode', 'first_review', 'thumbnail_url', 'amenities',\n",
    "         'description', 'name','longitude', 'latitude'],\n",
    "        axis=1, inplace=True)\n",
    "\n",
    "top_5 = ['Apartment', 'House', 'Condominium', 'Townhouse', 'Loft']\n",
    "\n",
    "df.property_type = df.property_type.apply(lambda x: x if x in top_5 else 'Other')\n",
    "\n",
    "top_5 = ['Williamsburg', 'Bedford-Stuyvesant', 'Bushwick', 'Upper West Side', 'Harlem']\n",
    "\n",
    "df.neighbourhood = df.neighbourhood.apply(lambda x: x if x in top_5 else 'Other')\n",
    "\n",
    "df['last_review'] = pd.to_datetime(df['last_review'])\n",
    "most_recent = df.last_review.max()\n",
    "\n",
    "def month_difference(row):\n",
    "    if pd.isnull(row['last_review']):\n",
    "        return None\n",
    "    diff = most_recent - row['last_review']\n",
    "    return int(diff.days / 30)\n",
    "\n",
    "df.last_review = df.apply(month_difference, axis=1)\n",
    "df.last_review.fillna(0, inplace=True)\n",
    "\n",
    "df.cleaning_fee = df.cleaning_fee.astype(int)\n",
    "\n",
    "df.host_has_profile_pic = df.host_has_profile_pic.apply(lambda x: 1 if x == 't' else 0)\n",
    "df.host_identity_verified = df.host_identity_verified.apply(lambda x: 1 if x == 't' else 0)\n",
    "df.instant_bookable = df.instant_bookable.apply(lambda x: 1 if x == 't' else 0)\n",
    "\n",
    "df.host_response_rate.fillna(0, inplace=True)\n",
    "\n",
    "df.host_response_rate = df.host_response_rate.apply(lambda x: float(x.strip('%')) / 100 if x != 0 else x)\n",
    "\n",
    "df['host_since'] = df['host_since'].apply(lambda x: 0 if pd.isnull(x) else int(x.split('-')[0]))\n",
    "\n",
    "\n",
    "\n",
    "df_dummy = pd.get_dummies(df, columns=['property_type', 'room_type', 'bed_type', 'cancellation_policy', 'city', 'neighbourhood'], drop_first=True)\n",
    "\n",
    "df_dummy.fillna(0, inplace=True)"
   ]
  },
  {
   "cell_type": "code",
   "execution_count": 27,
   "id": "f643e8b0",
   "metadata": {
    "scrolled": true
   },
   "outputs": [
    {
     "data": {
      "text/plain": [
       "array([5.57110943, 5.02178014, 3.84039758, 4.99413976, 4.89954149])"
      ]
     },
     "execution_count": 27,
     "metadata": {},
     "output_type": "execute_result"
    }
   ],
   "source": [
    "# and finally, get our price prediction\n",
    "price_pred = model.predict(df_dummy)\n",
    "\n",
    "price_pred[:5]"
   ]
  },
  {
   "cell_type": "code",
   "execution_count": null,
   "id": "f61be166",
   "metadata": {},
   "outputs": [],
   "source": [
    "# df = pd.read_csv('muestra.csv')\n",
    "# df.log_price = price_pred\n",
    "# df.to_csv('test5.csv', index=False)"
   ]
  }
 ],
 "metadata": {
  "kernelspec": {
   "display_name": "Python 3 (ipykernel)",
   "language": "python",
   "name": "python3"
  },
  "language_info": {
   "codemirror_mode": {
    "name": "ipython",
    "version": 3
   },
   "file_extension": ".py",
   "mimetype": "text/x-python",
   "name": "python",
   "nbconvert_exporter": "python",
   "pygments_lexer": "ipython3",
   "version": "3.11.4"
  }
 },
 "nbformat": 4,
 "nbformat_minor": 5
}
