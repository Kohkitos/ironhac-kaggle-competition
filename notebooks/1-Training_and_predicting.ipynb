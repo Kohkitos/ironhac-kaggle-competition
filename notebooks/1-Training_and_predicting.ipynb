{
 "cells": [
  {
   "cell_type": "markdown",
   "id": "1a1afb27",
   "metadata": {},
   "source": [
    "# Transformation pipeline"
   ]
  },
  {
   "cell_type": "code",
   "execution_count": 89,
   "id": "e4b4b813",
   "metadata": {},
   "outputs": [],
   "source": [
    "# libraries\n",
    "import pandas as pd\n",
    "pd.set_option('display.max_columns', None)\n",
    "import numpy as np"
   ]
  },
  {
   "cell_type": "code",
   "execution_count": 90,
   "id": "15dbe545",
   "metadata": {},
   "outputs": [],
   "source": [
    "df = pd.read_csv('../data/train.csv')"
   ]
  },
  {
   "cell_type": "code",
   "execution_count": 91,
   "id": "f0ce6520",
   "metadata": {},
   "outputs": [],
   "source": [
    "# a list with all amenities\n",
    "amenilist = ['\"Air conditioning\"',\n",
    " '\"Family/kid friendly\"',\n",
    " '\"Wireless Internet\"',\n",
    " 'Essentials',\n",
    " 'Hangers',\n",
    " 'Internet',\n",
    " 'Iron',\n",
    " 'Kitchen',\n",
    " 'Shampoo',\n",
    " 'TV']"
   ]
  },
  {
   "cell_type": "code",
   "execution_count": 92,
   "id": "92a1bfbb",
   "metadata": {},
   "outputs": [],
   "source": [
    "for e in amenilist:\n",
    "    df[e] = df.amenities.apply(lambda x: 1 if e in x else 0)"
   ]
  },
  {
   "cell_type": "code",
   "execution_count": 93,
   "id": "5e510060",
   "metadata": {},
   "outputs": [],
   "source": [
    "# drop columns with too many unique values\n",
    "\n",
    "df.drop(['id', 'first_review', 'zipcode', 'thumbnail_url', 'amenities', 'description', 'host_since', 'name','longitude', 'latitude'],\n",
    "        axis=1, inplace=True)"
   ]
  },
  {
   "cell_type": "markdown",
   "id": "138cefe7",
   "metadata": {},
   "source": [
    "First, the categorical columns with too many values are going to be categorized according to their top 5 values."
   ]
  },
  {
   "cell_type": "code",
   "execution_count": 94,
   "id": "dc21f33d",
   "metadata": {},
   "outputs": [
    {
     "data": {
      "text/plain": [
       "Apartment      39158\n",
       "House          13295\n",
       "Condominium     2103\n",
       "Townhouse       1341\n",
       "Loft             992\n",
       "Name: property_type, dtype: int64"
      ]
     },
     "execution_count": 94,
     "metadata": {},
     "output_type": "execute_result"
    }
   ],
   "source": [
    "df.property_type.value_counts()[:5]"
   ]
  },
  {
   "cell_type": "code",
   "execution_count": 95,
   "id": "5ef65a7c",
   "metadata": {},
   "outputs": [
    {
     "data": {
      "text/plain": [
       "Williamsburg          2276\n",
       "Bedford-Stuyvesant    1686\n",
       "Bushwick              1281\n",
       "Upper West Side       1151\n",
       "Harlem                1112\n",
       "Name: neighbourhood, dtype: int64"
      ]
     },
     "execution_count": 95,
     "metadata": {},
     "output_type": "execute_result"
    }
   ],
   "source": [
    "df.neighbourhood.value_counts()[:5]"
   ]
  },
  {
   "cell_type": "code",
   "execution_count": 96,
   "id": "911b9fe5",
   "metadata": {},
   "outputs": [],
   "source": [
    "top_5 = ['Apartment', 'House', 'Condominium', 'Townhouse', 'Loft']\n",
    "\n",
    "df.property_type = df.property_type.apply(lambda x: x if x in top_5 else 'Other')\n",
    "\n",
    "top_5 = ['Williamsburg', 'Bedford-Stuyvesant', 'Bushwick', 'Upper West Side', 'Harlem']\n",
    "\n",
    "df.neighbourhood = df.neighbourhood.apply(lambda x: x if x in top_5 else 'Other')"
   ]
  },
  {
   "cell_type": "markdown",
   "id": "85476972",
   "metadata": {},
   "source": [
    "Now, bool columns will be normalized."
   ]
  },
  {
   "cell_type": "code",
   "execution_count": 97,
   "id": "87bf15f4",
   "metadata": {},
   "outputs": [],
   "source": [
    "# cleaning_fee has trues and falses, changing the dtype change it to 0 and 1\n",
    "df.cleaning_fee = df.cleaning_fee.astype(int)"
   ]
  },
  {
   "cell_type": "code",
   "execution_count": 98,
   "id": "138553fa",
   "metadata": {},
   "outputs": [],
   "source": [
    "# we will check how long ago was the last review\n",
    "df['last_review'] = pd.to_datetime(df['last_review'])\n",
    "most_recent = df.last_review.max()\n",
    "\n",
    "def month_difference(row):\n",
    "    if pd.isnull(row['last_review']):\n",
    "        return None\n",
    "    diff = most_recent - row['last_review']\n",
    "    return int(diff.days / 30)\n",
    "\n",
    "df.last_review = df.apply(month_difference, axis=1)\n",
    "df.last_review.fillna(0, inplace=True)"
   ]
  },
  {
   "cell_type": "code",
   "execution_count": 99,
   "id": "96420c62",
   "metadata": {},
   "outputs": [],
   "source": [
    "# changing t and f to 1/0, while also treating nan as 0\n",
    "df.host_has_profile_pic = df.host_has_profile_pic.apply(lambda x: 1 if x == 't' else 0)\n",
    "df.host_identity_verified = df.host_identity_verified.apply(lambda x: 1 if x == 't' else 0)\n",
    "df.instant_bookable = df.instant_bookable.apply(lambda x: 1 if x == 't' else 0)"
   ]
  },
  {
   "cell_type": "markdown",
   "id": "c333280d",
   "metadata": {},
   "source": [
    "The column host_response_rate will be changed to float and nan is going to be treated as no response."
   ]
  },
  {
   "cell_type": "code",
   "execution_count": 100,
   "id": "959ed3cf",
   "metadata": {},
   "outputs": [],
   "source": [
    "df.host_response_rate.fillna(0, inplace=True)\n",
    "\n",
    "df.host_response_rate = df.host_response_rate.apply(lambda x: float(x.strip('%')) / 100 if x != 0 else x)"
   ]
  },
  {
   "cell_type": "markdown",
   "id": "2b956c68",
   "metadata": {},
   "source": [
    "Finally, we will create dummy columns for all categorical columns so that we can process it through our machine learning model."
   ]
  },
  {
   "cell_type": "code",
   "execution_count": 101,
   "id": "6053119b",
   "metadata": {},
   "outputs": [
    {
     "data": {
      "text/html": [
       "<div>\n",
       "<style scoped>\n",
       "    .dataframe tbody tr th:only-of-type {\n",
       "        vertical-align: middle;\n",
       "    }\n",
       "\n",
       "    .dataframe tbody tr th {\n",
       "        vertical-align: top;\n",
       "    }\n",
       "\n",
       "    .dataframe thead th {\n",
       "        text-align: right;\n",
       "    }\n",
       "</style>\n",
       "<table border=\"1\" class=\"dataframe\">\n",
       "  <thead>\n",
       "    <tr style=\"text-align: right;\">\n",
       "      <th></th>\n",
       "      <th>log_price</th>\n",
       "      <th>accommodates</th>\n",
       "      <th>bathrooms</th>\n",
       "      <th>cleaning_fee</th>\n",
       "      <th>host_has_profile_pic</th>\n",
       "      <th>host_identity_verified</th>\n",
       "      <th>host_response_rate</th>\n",
       "      <th>instant_bookable</th>\n",
       "      <th>last_review</th>\n",
       "      <th>number_of_reviews</th>\n",
       "      <th>review_scores_rating</th>\n",
       "      <th>bedrooms</th>\n",
       "      <th>beds</th>\n",
       "      <th>\"Air conditioning\"</th>\n",
       "      <th>\"Family/kid friendly\"</th>\n",
       "      <th>\"Wireless Internet\"</th>\n",
       "      <th>Essentials</th>\n",
       "      <th>Hangers</th>\n",
       "      <th>Internet</th>\n",
       "      <th>Iron</th>\n",
       "      <th>Kitchen</th>\n",
       "      <th>Shampoo</th>\n",
       "      <th>TV</th>\n",
       "      <th>property_type_Condominium</th>\n",
       "      <th>property_type_House</th>\n",
       "      <th>property_type_Loft</th>\n",
       "      <th>property_type_Other</th>\n",
       "      <th>property_type_Townhouse</th>\n",
       "      <th>room_type_Private room</th>\n",
       "      <th>room_type_Shared room</th>\n",
       "      <th>bed_type_Couch</th>\n",
       "      <th>bed_type_Futon</th>\n",
       "      <th>bed_type_Pull-out Sofa</th>\n",
       "      <th>bed_type_Real Bed</th>\n",
       "      <th>cancellation_policy_moderate</th>\n",
       "      <th>cancellation_policy_strict</th>\n",
       "      <th>cancellation_policy_super_strict_30</th>\n",
       "      <th>cancellation_policy_super_strict_60</th>\n",
       "      <th>city_Chicago</th>\n",
       "      <th>city_DC</th>\n",
       "      <th>city_LA</th>\n",
       "      <th>city_NYC</th>\n",
       "      <th>city_SF</th>\n",
       "      <th>neighbourhood_Bushwick</th>\n",
       "      <th>neighbourhood_Harlem</th>\n",
       "      <th>neighbourhood_Other</th>\n",
       "      <th>neighbourhood_Upper West Side</th>\n",
       "      <th>neighbourhood_Williamsburg</th>\n",
       "    </tr>\n",
       "  </thead>\n",
       "  <tbody>\n",
       "    <tr>\n",
       "      <th>0</th>\n",
       "      <td>4.499810</td>\n",
       "      <td>2</td>\n",
       "      <td>1.0</td>\n",
       "      <td>1</td>\n",
       "      <td>1</td>\n",
       "      <td>1</td>\n",
       "      <td>0.8</td>\n",
       "      <td>0</td>\n",
       "      <td>0.0</td>\n",
       "      <td>9</td>\n",
       "      <td>96.0</td>\n",
       "      <td>1.0</td>\n",
       "      <td>1.0</td>\n",
       "      <td>1</td>\n",
       "      <td>1</td>\n",
       "      <td>1</td>\n",
       "      <td>1</td>\n",
       "      <td>1</td>\n",
       "      <td>1</td>\n",
       "      <td>1</td>\n",
       "      <td>1</td>\n",
       "      <td>1</td>\n",
       "      <td>1</td>\n",
       "      <td>0</td>\n",
       "      <td>0</td>\n",
       "      <td>0</td>\n",
       "      <td>0</td>\n",
       "      <td>0</td>\n",
       "      <td>0</td>\n",
       "      <td>0</td>\n",
       "      <td>0</td>\n",
       "      <td>0</td>\n",
       "      <td>0</td>\n",
       "      <td>1</td>\n",
       "      <td>0</td>\n",
       "      <td>0</td>\n",
       "      <td>0</td>\n",
       "      <td>0</td>\n",
       "      <td>0</td>\n",
       "      <td>0</td>\n",
       "      <td>0</td>\n",
       "      <td>1</td>\n",
       "      <td>0</td>\n",
       "      <td>0</td>\n",
       "      <td>0</td>\n",
       "      <td>1</td>\n",
       "      <td>0</td>\n",
       "      <td>0</td>\n",
       "    </tr>\n",
       "    <tr>\n",
       "      <th>1</th>\n",
       "      <td>3.970292</td>\n",
       "      <td>2</td>\n",
       "      <td>1.0</td>\n",
       "      <td>1</td>\n",
       "      <td>1</td>\n",
       "      <td>1</td>\n",
       "      <td>0.0</td>\n",
       "      <td>0</td>\n",
       "      <td>9.0</td>\n",
       "      <td>8</td>\n",
       "      <td>100.0</td>\n",
       "      <td>1.0</td>\n",
       "      <td>1.0</td>\n",
       "      <td>1</td>\n",
       "      <td>0</td>\n",
       "      <td>1</td>\n",
       "      <td>1</td>\n",
       "      <td>0</td>\n",
       "      <td>1</td>\n",
       "      <td>0</td>\n",
       "      <td>1</td>\n",
       "      <td>0</td>\n",
       "      <td>0</td>\n",
       "      <td>0</td>\n",
       "      <td>0</td>\n",
       "      <td>0</td>\n",
       "      <td>0</td>\n",
       "      <td>0</td>\n",
       "      <td>1</td>\n",
       "      <td>0</td>\n",
       "      <td>0</td>\n",
       "      <td>1</td>\n",
       "      <td>0</td>\n",
       "      <td>0</td>\n",
       "      <td>0</td>\n",
       "      <td>1</td>\n",
       "      <td>0</td>\n",
       "      <td>0</td>\n",
       "      <td>0</td>\n",
       "      <td>0</td>\n",
       "      <td>0</td>\n",
       "      <td>1</td>\n",
       "      <td>0</td>\n",
       "      <td>0</td>\n",
       "      <td>0</td>\n",
       "      <td>1</td>\n",
       "      <td>0</td>\n",
       "      <td>0</td>\n",
       "    </tr>\n",
       "    <tr>\n",
       "      <th>2</th>\n",
       "      <td>4.787492</td>\n",
       "      <td>4</td>\n",
       "      <td>1.0</td>\n",
       "      <td>1</td>\n",
       "      <td>1</td>\n",
       "      <td>1</td>\n",
       "      <td>1.0</td>\n",
       "      <td>0</td>\n",
       "      <td>0.0</td>\n",
       "      <td>12</td>\n",
       "      <td>100.0</td>\n",
       "      <td>1.0</td>\n",
       "      <td>1.0</td>\n",
       "      <td>1</td>\n",
       "      <td>1</td>\n",
       "      <td>1</td>\n",
       "      <td>1</td>\n",
       "      <td>1</td>\n",
       "      <td>1</td>\n",
       "      <td>0</td>\n",
       "      <td>1</td>\n",
       "      <td>0</td>\n",
       "      <td>0</td>\n",
       "      <td>0</td>\n",
       "      <td>0</td>\n",
       "      <td>0</td>\n",
       "      <td>0</td>\n",
       "      <td>0</td>\n",
       "      <td>0</td>\n",
       "      <td>0</td>\n",
       "      <td>0</td>\n",
       "      <td>0</td>\n",
       "      <td>0</td>\n",
       "      <td>1</td>\n",
       "      <td>1</td>\n",
       "      <td>0</td>\n",
       "      <td>0</td>\n",
       "      <td>0</td>\n",
       "      <td>0</td>\n",
       "      <td>0</td>\n",
       "      <td>0</td>\n",
       "      <td>1</td>\n",
       "      <td>0</td>\n",
       "      <td>0</td>\n",
       "      <td>0</td>\n",
       "      <td>0</td>\n",
       "      <td>0</td>\n",
       "      <td>0</td>\n",
       "    </tr>\n",
       "    <tr>\n",
       "      <th>3</th>\n",
       "      <td>4.700480</td>\n",
       "      <td>3</td>\n",
       "      <td>0.0</td>\n",
       "      <td>0</td>\n",
       "      <td>1</td>\n",
       "      <td>0</td>\n",
       "      <td>0.0</td>\n",
       "      <td>0</td>\n",
       "      <td>45.0</td>\n",
       "      <td>2</td>\n",
       "      <td>90.0</td>\n",
       "      <td>1.0</td>\n",
       "      <td>1.0</td>\n",
       "      <td>1</td>\n",
       "      <td>1</td>\n",
       "      <td>1</td>\n",
       "      <td>1</td>\n",
       "      <td>0</td>\n",
       "      <td>1</td>\n",
       "      <td>0</td>\n",
       "      <td>1</td>\n",
       "      <td>0</td>\n",
       "      <td>0</td>\n",
       "      <td>0</td>\n",
       "      <td>0</td>\n",
       "      <td>0</td>\n",
       "      <td>0</td>\n",
       "      <td>0</td>\n",
       "      <td>0</td>\n",
       "      <td>0</td>\n",
       "      <td>0</td>\n",
       "      <td>0</td>\n",
       "      <td>0</td>\n",
       "      <td>1</td>\n",
       "      <td>1</td>\n",
       "      <td>0</td>\n",
       "      <td>0</td>\n",
       "      <td>0</td>\n",
       "      <td>0</td>\n",
       "      <td>0</td>\n",
       "      <td>0</td>\n",
       "      <td>1</td>\n",
       "      <td>0</td>\n",
       "      <td>0</td>\n",
       "      <td>0</td>\n",
       "      <td>1</td>\n",
       "      <td>0</td>\n",
       "      <td>0</td>\n",
       "    </tr>\n",
       "    <tr>\n",
       "      <th>4</th>\n",
       "      <td>5.192957</td>\n",
       "      <td>3</td>\n",
       "      <td>1.0</td>\n",
       "      <td>1</td>\n",
       "      <td>1</td>\n",
       "      <td>0</td>\n",
       "      <td>0.0</td>\n",
       "      <td>0</td>\n",
       "      <td>16.0</td>\n",
       "      <td>1</td>\n",
       "      <td>80.0</td>\n",
       "      <td>1.0</td>\n",
       "      <td>1.0</td>\n",
       "      <td>1</td>\n",
       "      <td>0</td>\n",
       "      <td>1</td>\n",
       "      <td>1</td>\n",
       "      <td>0</td>\n",
       "      <td>1</td>\n",
       "      <td>0</td>\n",
       "      <td>1</td>\n",
       "      <td>0</td>\n",
       "      <td>1</td>\n",
       "      <td>0</td>\n",
       "      <td>0</td>\n",
       "      <td>0</td>\n",
       "      <td>0</td>\n",
       "      <td>0</td>\n",
       "      <td>0</td>\n",
       "      <td>0</td>\n",
       "      <td>0</td>\n",
       "      <td>0</td>\n",
       "      <td>0</td>\n",
       "      <td>1</td>\n",
       "      <td>0</td>\n",
       "      <td>1</td>\n",
       "      <td>0</td>\n",
       "      <td>0</td>\n",
       "      <td>0</td>\n",
       "      <td>0</td>\n",
       "      <td>0</td>\n",
       "      <td>1</td>\n",
       "      <td>0</td>\n",
       "      <td>0</td>\n",
       "      <td>0</td>\n",
       "      <td>1</td>\n",
       "      <td>0</td>\n",
       "      <td>0</td>\n",
       "    </tr>\n",
       "  </tbody>\n",
       "</table>\n",
       "</div>"
      ],
      "text/plain": [
       "   log_price  accommodates  bathrooms  cleaning_fee  host_has_profile_pic  \\\n",
       "0   4.499810             2        1.0             1                     1   \n",
       "1   3.970292             2        1.0             1                     1   \n",
       "2   4.787492             4        1.0             1                     1   \n",
       "3   4.700480             3        0.0             0                     1   \n",
       "4   5.192957             3        1.0             1                     1   \n",
       "\n",
       "   host_identity_verified  host_response_rate  instant_bookable  last_review  \\\n",
       "0                       1                 0.8                 0          0.0   \n",
       "1                       1                 0.0                 0          9.0   \n",
       "2                       1                 1.0                 0          0.0   \n",
       "3                       0                 0.0                 0         45.0   \n",
       "4                       0                 0.0                 0         16.0   \n",
       "\n",
       "   number_of_reviews  review_scores_rating  bedrooms  beds  \\\n",
       "0                  9                  96.0       1.0   1.0   \n",
       "1                  8                 100.0       1.0   1.0   \n",
       "2                 12                 100.0       1.0   1.0   \n",
       "3                  2                  90.0       1.0   1.0   \n",
       "4                  1                  80.0       1.0   1.0   \n",
       "\n",
       "   \"Air conditioning\"  \"Family/kid friendly\"  \"Wireless Internet\"  Essentials  \\\n",
       "0                   1                      1                    1           1   \n",
       "1                   1                      0                    1           1   \n",
       "2                   1                      1                    1           1   \n",
       "3                   1                      1                    1           1   \n",
       "4                   1                      0                    1           1   \n",
       "\n",
       "   Hangers  Internet  Iron  Kitchen  Shampoo  TV  property_type_Condominium  \\\n",
       "0        1         1     1        1        1   1                          0   \n",
       "1        0         1     0        1        0   0                          0   \n",
       "2        1         1     0        1        0   0                          0   \n",
       "3        0         1     0        1        0   0                          0   \n",
       "4        0         1     0        1        0   1                          0   \n",
       "\n",
       "   property_type_House  property_type_Loft  property_type_Other  \\\n",
       "0                    0                   0                    0   \n",
       "1                    0                   0                    0   \n",
       "2                    0                   0                    0   \n",
       "3                    0                   0                    0   \n",
       "4                    0                   0                    0   \n",
       "\n",
       "   property_type_Townhouse  room_type_Private room  room_type_Shared room  \\\n",
       "0                        0                       0                      0   \n",
       "1                        0                       1                      0   \n",
       "2                        0                       0                      0   \n",
       "3                        0                       0                      0   \n",
       "4                        0                       0                      0   \n",
       "\n",
       "   bed_type_Couch  bed_type_Futon  bed_type_Pull-out Sofa  bed_type_Real Bed  \\\n",
       "0               0               0                       0                  1   \n",
       "1               0               1                       0                  0   \n",
       "2               0               0                       0                  1   \n",
       "3               0               0                       0                  1   \n",
       "4               0               0                       0                  1   \n",
       "\n",
       "   cancellation_policy_moderate  cancellation_policy_strict  \\\n",
       "0                             0                           0   \n",
       "1                             0                           1   \n",
       "2                             1                           0   \n",
       "3                             1                           0   \n",
       "4                             0                           1   \n",
       "\n",
       "   cancellation_policy_super_strict_30  cancellation_policy_super_strict_60  \\\n",
       "0                                    0                                    0   \n",
       "1                                    0                                    0   \n",
       "2                                    0                                    0   \n",
       "3                                    0                                    0   \n",
       "4                                    0                                    0   \n",
       "\n",
       "   city_Chicago  city_DC  city_LA  city_NYC  city_SF  neighbourhood_Bushwick  \\\n",
       "0             0        0        0         1        0                       0   \n",
       "1             0        0        0         1        0                       0   \n",
       "2             0        0        0         1        0                       0   \n",
       "3             0        0        0         1        0                       0   \n",
       "4             0        0        0         1        0                       0   \n",
       "\n",
       "   neighbourhood_Harlem  neighbourhood_Other  neighbourhood_Upper West Side  \\\n",
       "0                     0                    1                              0   \n",
       "1                     0                    1                              0   \n",
       "2                     0                    0                              0   \n",
       "3                     0                    1                              0   \n",
       "4                     0                    1                              0   \n",
       "\n",
       "   neighbourhood_Williamsburg  \n",
       "0                           0  \n",
       "1                           0  \n",
       "2                           0  \n",
       "3                           0  \n",
       "4                           0  "
      ]
     },
     "execution_count": 101,
     "metadata": {},
     "output_type": "execute_result"
    }
   ],
   "source": [
    "df_dummy = pd.get_dummies(df, columns=['property_type', 'room_type', 'bed_type', 'cancellation_policy', 'city', 'neighbourhood'], drop_first=True)\n",
    "df_dummy.fillna(0, inplace=True) # fill na with 0 just in case\n",
    "\n",
    "df_dummy.head()"
   ]
  },
  {
   "cell_type": "markdown",
   "id": "edecc7ea",
   "metadata": {},
   "source": [
    "# Training"
   ]
  },
  {
   "cell_type": "code",
   "execution_count": 102,
   "id": "9a3a1f6e",
   "metadata": {},
   "outputs": [],
   "source": [
    "# libraries\n",
    "from sklearn.model_selection import train_test_split as tts"
   ]
  },
  {
   "cell_type": "code",
   "execution_count": 103,
   "id": "98ff753a",
   "metadata": {},
   "outputs": [],
   "source": [
    "# we select our X and y (y being the log_price and X everything else)\n",
    "\n",
    "X = df_dummy.drop(['log_price'], axis=1)\n",
    "\n",
    "y = df_dummy.log_price"
   ]
  },
  {
   "cell_type": "code",
   "execution_count": 104,
   "id": "c6368fde",
   "metadata": {},
   "outputs": [],
   "source": [
    "# then we split X and y for our train and test\n",
    "X_train, X_test, y_train, y_test = tts(X, y, \n",
    "                                       train_size=0.8, \n",
    "                                       test_size=0.2,\n",
    "                                       random_state=42)"
   ]
  },
  {
   "cell_type": "markdown",
   "id": "c7eb23ce",
   "metadata": {},
   "source": [
    "To see which model fits best we will run this function"
   ]
  },
  {
   "cell_type": "code",
   "execution_count": 112,
   "id": "144c7efc",
   "metadata": {
    "scrolled": false
   },
   "outputs": [
    {
     "name": "stdout",
     "output_type": "stream",
     "text": [
      "Modelo: linear_regression - MSE: 0.2192602614608145\n",
      "Modelo: ridge_regression - MSE: 0.21924827242658965\n",
      "Modelo: lasso_regression - MSE: 0.5149474813532444\n",
      "Modelo: decision_tree_regressor - MSE: 0.3931068370349188\n",
      "Modelo: gradient_boosting_regressor - MSE: 0.2023047470104654\n",
      "Modelo: xgboost_regressor - MSE: 0.18931884246112204\n",
      "Modelo: catboost_regressor - MSE: 0.1847658810382223\n"
     ]
    }
   ],
   "source": [
    "from sklearn.linear_model import LinearRegression, Ridge, Lasso\n",
    "from sklearn.tree import DecisionTreeRegressor\n",
    "from sklearn.ensemble import RandomForestRegressor, GradientBoostingRegressor\n",
    "from sklearn.metrics import mean_squared_error\n",
    "import xgboost as xgb\n",
    "import lightgbm as lgb\n",
    "from catboost import CatBoostRegressor\n",
    "\n",
    "def model_test(X_train, y_train, X_test, y_test):\n",
    "    models = {\n",
    "        \"linear_regression\": LinearRegression(),\n",
    "        \"ridge_regression\": Ridge(),\n",
    "        \"lasso_regression\": Lasso(),\n",
    "        \"decision_tree_regressor\": DecisionTreeRegressor(),\n",
    "        \"gradient_boosting_regressor\": GradientBoostingRegressor(),\n",
    "        \"xgboost_regressor\": xgb.XGBRegressor(),\n",
    "        \"catboost_regressor\": CatBoostRegressor(verbose=False)\n",
    "    }\n",
    "\n",
    "    for name, model in models.items():\n",
    "        model.fit(X_train, y_train)\n",
    "        y_pred = model.predict(X_test)\n",
    "        error = mean_squared_error(y_test, y_pred)\n",
    "        print(f\"Modelo: {name} - MSE: {error}\")\n",
    "\n",
    "model_test(X_train, y_train, X_test, y_test)"
   ]
  },
  {
   "cell_type": "markdown",
   "id": "f6c26802",
   "metadata": {},
   "source": [
    "For this particular case and with the models used, catboost_regressor is the most accurate, so we will be using that."
   ]
  },
  {
   "cell_type": "code",
   "execution_count": 118,
   "id": "17a0bca0",
   "metadata": {},
   "outputs": [
    {
     "data": {
      "text/html": [
       "<style>#sk-container-id-1 {color: black;}#sk-container-id-1 pre{padding: 0;}#sk-container-id-1 div.sk-toggleable {background-color: white;}#sk-container-id-1 label.sk-toggleable__label {cursor: pointer;display: block;width: 100%;margin-bottom: 0;padding: 0.3em;box-sizing: border-box;text-align: center;}#sk-container-id-1 label.sk-toggleable__label-arrow:before {content: \"▸\";float: left;margin-right: 0.25em;color: #696969;}#sk-container-id-1 label.sk-toggleable__label-arrow:hover:before {color: black;}#sk-container-id-1 div.sk-estimator:hover label.sk-toggleable__label-arrow:before {color: black;}#sk-container-id-1 div.sk-toggleable__content {max-height: 0;max-width: 0;overflow: hidden;text-align: left;background-color: #f0f8ff;}#sk-container-id-1 div.sk-toggleable__content pre {margin: 0.2em;color: black;border-radius: 0.25em;background-color: #f0f8ff;}#sk-container-id-1 input.sk-toggleable__control:checked~div.sk-toggleable__content {max-height: 200px;max-width: 100%;overflow: auto;}#sk-container-id-1 input.sk-toggleable__control:checked~label.sk-toggleable__label-arrow:before {content: \"▾\";}#sk-container-id-1 div.sk-estimator input.sk-toggleable__control:checked~label.sk-toggleable__label {background-color: #d4ebff;}#sk-container-id-1 div.sk-label input.sk-toggleable__control:checked~label.sk-toggleable__label {background-color: #d4ebff;}#sk-container-id-1 input.sk-hidden--visually {border: 0;clip: rect(1px 1px 1px 1px);clip: rect(1px, 1px, 1px, 1px);height: 1px;margin: -1px;overflow: hidden;padding: 0;position: absolute;width: 1px;}#sk-container-id-1 div.sk-estimator {font-family: monospace;background-color: #f0f8ff;border: 1px dotted black;border-radius: 0.25em;box-sizing: border-box;margin-bottom: 0.5em;}#sk-container-id-1 div.sk-estimator:hover {background-color: #d4ebff;}#sk-container-id-1 div.sk-parallel-item::after {content: \"\";width: 100%;border-bottom: 1px solid gray;flex-grow: 1;}#sk-container-id-1 div.sk-label:hover label.sk-toggleable__label {background-color: #d4ebff;}#sk-container-id-1 div.sk-serial::before {content: \"\";position: absolute;border-left: 1px solid gray;box-sizing: border-box;top: 0;bottom: 0;left: 50%;z-index: 0;}#sk-container-id-1 div.sk-serial {display: flex;flex-direction: column;align-items: center;background-color: white;padding-right: 0.2em;padding-left: 0.2em;position: relative;}#sk-container-id-1 div.sk-item {position: relative;z-index: 1;}#sk-container-id-1 div.sk-parallel {display: flex;align-items: stretch;justify-content: center;background-color: white;position: relative;}#sk-container-id-1 div.sk-item::before, #sk-container-id-1 div.sk-parallel-item::before {content: \"\";position: absolute;border-left: 1px solid gray;box-sizing: border-box;top: 0;bottom: 0;left: 50%;z-index: -1;}#sk-container-id-1 div.sk-parallel-item {display: flex;flex-direction: column;z-index: 1;position: relative;background-color: white;}#sk-container-id-1 div.sk-parallel-item:first-child::after {align-self: flex-end;width: 50%;}#sk-container-id-1 div.sk-parallel-item:last-child::after {align-self: flex-start;width: 50%;}#sk-container-id-1 div.sk-parallel-item:only-child::after {width: 0;}#sk-container-id-1 div.sk-dashed-wrapped {border: 1px dashed gray;margin: 0 0.4em 0.5em 0.4em;box-sizing: border-box;padding-bottom: 0.4em;background-color: white;}#sk-container-id-1 div.sk-label label {font-family: monospace;font-weight: bold;display: inline-block;line-height: 1.2em;}#sk-container-id-1 div.sk-label-container {text-align: center;}#sk-container-id-1 div.sk-container {/* jupyter's `normalize.less` sets `[hidden] { display: none; }` but bootstrap.min.css set `[hidden] { display: none !important; }` so we also need the `!important` here to be able to override the default hidden behavior on the sphinx rendered scikit-learn.org. See: https://github.com/scikit-learn/scikit-learn/issues/21755 */display: inline-block !important;position: relative;}#sk-container-id-1 div.sk-text-repr-fallback {display: none;}</style><div id=\"sk-container-id-1\" class=\"sk-top-container\"><div class=\"sk-text-repr-fallback\"><pre>GradientBoostingRegressor()</pre><b>In a Jupyter environment, please rerun this cell to show the HTML representation or trust the notebook. <br />On GitHub, the HTML representation is unable to render, please try loading this page with nbviewer.org.</b></div><div class=\"sk-container\" hidden><div class=\"sk-item\"><div class=\"sk-estimator sk-toggleable\"><input class=\"sk-toggleable__control sk-hidden--visually\" id=\"sk-estimator-id-1\" type=\"checkbox\" checked><label for=\"sk-estimator-id-1\" class=\"sk-toggleable__label sk-toggleable__label-arrow\">GradientBoostingRegressor</label><div class=\"sk-toggleable__content\"><pre>GradientBoostingRegressor()</pre></div></div></div></div></div>"
      ],
      "text/plain": [
       "GradientBoostingRegressor()"
      ]
     },
     "execution_count": 118,
     "metadata": {},
     "output_type": "execute_result"
    }
   ],
   "source": [
    "# we fit the model with the train dfs and make the y_pred\n",
    "model = CatBoostRegressor(verbose=False)\n",
    "model.fit(X_train, y_train)"
   ]
  },
  {
   "cell_type": "markdown",
   "id": "384c03ec",
   "metadata": {},
   "source": [
    "# Predictions"
   ]
  },
  {
   "cell_type": "markdown",
   "id": "4518207f",
   "metadata": {},
   "source": [
    "Now that the model has been trained, we will use it to predict the prices."
   ]
  },
  {
   "cell_type": "code",
   "execution_count": 114,
   "id": "988d40a6",
   "metadata": {},
   "outputs": [],
   "source": [
    "# first, load the df\n",
    "df = pd.read_csv('../data/test.csv')"
   ]
  },
  {
   "cell_type": "code",
   "execution_count": 115,
   "id": "66afd804",
   "metadata": {},
   "outputs": [],
   "source": [
    "# now the pipeline we created before \n",
    "amenilist = ['\"Air conditioning\"', '\"Family/kid friendly\"', '\"Wireless Internet\"',\n",
    "             'Essentials', 'Hangers', 'Internet', 'Iron', 'Kitchen', 'Shampoo', 'TV']\n",
    "\n",
    "for e in amenilist:\n",
    "    df[e] = df.amenities.apply(lambda x: 1 if e in x else 0)\n",
    "\n",
    "df.drop(['id', 'zipcode', 'first_review', 'thumbnail_url', 'amenities',\n",
    "         'description', 'host_since', 'name','longitude', 'latitude'],\n",
    "        axis=1, inplace=True)\n",
    "\n",
    "top_5 = ['Apartment', 'House', 'Condominium', 'Townhouse', 'Loft']\n",
    "\n",
    "df.property_type = df.property_type.apply(lambda x: x if x in top_5 else 'Other')\n",
    "\n",
    "top_5 = ['Williamsburg', 'Bedford-Stuyvesant', 'Bushwick', 'Upper West Side', 'Harlem']\n",
    "\n",
    "df.neighbourhood = df.neighbourhood.apply(lambda x: x if x in top_5 else 'Other')\n",
    "\n",
    "df['last_review'] = pd.to_datetime(df['last_review'])\n",
    "most_recent = df.last_review.max()\n",
    "\n",
    "def month_difference(row):\n",
    "    if pd.isnull(row['last_review']):\n",
    "        return None\n",
    "    diff = most_recent - row['last_review']\n",
    "    return int(diff.days / 30)\n",
    "\n",
    "df.last_review = df.apply(month_difference, axis=1)\n",
    "df.last_review.fillna(0, inplace=True)\n",
    "\n",
    "df.cleaning_fee = df.cleaning_fee.astype(int)\n",
    "\n",
    "df.host_has_profile_pic = df.host_has_profile_pic.apply(lambda x: 1 if x == 't' else 0)\n",
    "df.host_identity_verified = df.host_identity_verified.apply(lambda x: 1 if x == 't' else 0)\n",
    "df.instant_bookable = df.instant_bookable.apply(lambda x: 1 if x == 't' else 0)\n",
    "\n",
    "df.host_response_rate.fillna(0, inplace=True)\n",
    "\n",
    "df.host_response_rate = df.host_response_rate.apply(lambda x: float(x.strip('%')) / 100 if x != 0 else x)\n",
    "\n",
    "df_dummy = pd.get_dummies(df, columns=['property_type', 'room_type', 'bed_type', 'cancellation_policy', 'city', 'neighbourhood'], drop_first=True)\n",
    "\n",
    "df_dummy.fillna(0, inplace=True)"
   ]
  },
  {
   "cell_type": "code",
   "execution_count": 119,
   "id": "f643e8b0",
   "metadata": {
    "scrolled": true
   },
   "outputs": [
    {
     "data": {
      "text/plain": [
       "array([5.65294929, 4.91810786, 4.05214   , 4.96322499, 4.93919886])"
      ]
     },
     "execution_count": 119,
     "metadata": {},
     "output_type": "execute_result"
    }
   ],
   "source": [
    "# and finally, get our price prediction\n",
    "price_pred = model.predict(df_dummy)\n",
    "\n",
    "price_pred[:5]"
   ]
  },
  {
   "cell_type": "code",
   "execution_count": 120,
   "id": "f958fa07",
   "metadata": {},
   "outputs": [],
   "source": [
    "# df = pd.read_csv('muestra.csv')\n",
    "# df.log_price = price_pred\n",
    "# df.to_csv('test3.csv', index=False)"
   ]
  },
  {
   "cell_type": "code",
   "execution_count": null,
   "id": "a80bb784",
   "metadata": {},
   "outputs": [],
   "source": []
  }
 ],
 "metadata": {
  "kernelspec": {
   "display_name": "Python 3 (ipykernel)",
   "language": "python",
   "name": "python3"
  },
  "language_info": {
   "codemirror_mode": {
    "name": "ipython",
    "version": 3
   },
   "file_extension": ".py",
   "mimetype": "text/x-python",
   "name": "python",
   "nbconvert_exporter": "python",
   "pygments_lexer": "ipython3",
   "version": "3.11.4"
  }
 },
 "nbformat": 4,
 "nbformat_minor": 5
}
