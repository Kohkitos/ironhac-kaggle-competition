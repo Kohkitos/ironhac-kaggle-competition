{
 "cells": [
  {
   "cell_type": "markdown",
   "id": "11e97e36",
   "metadata": {},
   "source": [
    "# Transformation pipeline"
   ]
  },
  {
   "cell_type": "code",
   "execution_count": 1,
   "id": "f746668f",
   "metadata": {},
   "outputs": [],
   "source": [
    "# libraries\n",
    "import pandas as pd\n",
    "import numpy as np"
   ]
  },
  {
   "cell_type": "code",
   "execution_count": 3,
   "id": "ce3edc30",
   "metadata": {},
   "outputs": [],
   "source": [
    "df = pd.read_csv('../data/train.csv')"
   ]
  },
  {
   "cell_type": "code",
   "execution_count": 4,
   "id": "268fb289",
   "metadata": {},
   "outputs": [],
   "source": [
    "# drop columns with too many unique values\n",
    "\n",
    "df.drop(['id', 'zipcode', 'thumbnail_url', 'amenities', 'description', 'host_since', 'name','longitude', 'latitude'],\n",
    "        axis=1, inplace=True)"
   ]
  },
  {
   "cell_type": "markdown",
   "id": "c7abdd8b",
   "metadata": {},
   "source": [
    "First, the categorical columns with too many values are going to be categorized according to their top 5 values."
   ]
  },
  {
   "cell_type": "code",
   "execution_count": 6,
   "id": "75cae2c6",
   "metadata": {},
   "outputs": [
    {
     "data": {
      "text/plain": [
       "Apartment      39158\n",
       "House          13295\n",
       "Condominium     2103\n",
       "Townhouse       1341\n",
       "Loft             992\n",
       "Name: property_type, dtype: int64"
      ]
     },
     "execution_count": 6,
     "metadata": {},
     "output_type": "execute_result"
    }
   ],
   "source": [
    "df.property_type.value_counts()[:5]"
   ]
  },
  {
   "cell_type": "code",
   "execution_count": 7,
   "id": "4b496ff2",
   "metadata": {},
   "outputs": [
    {
     "data": {
      "text/plain": [
       "Williamsburg          2276\n",
       "Bedford-Stuyvesant    1686\n",
       "Bushwick              1281\n",
       "Upper West Side       1151\n",
       "Harlem                1112\n",
       "Name: neighbourhood, dtype: int64"
      ]
     },
     "execution_count": 7,
     "metadata": {},
     "output_type": "execute_result"
    }
   ],
   "source": [
    "df.neighbourhood.value_counts()[:5]"
   ]
  },
  {
   "cell_type": "code",
   "execution_count": 8,
   "id": "f4f0e76f",
   "metadata": {},
   "outputs": [],
   "source": [
    "top_5 = ['Apartment', 'House', 'Condominium', 'Townhouse', 'Loft']\n",
    "\n",
    "df.property_type = df.property_type.apply(lambda x: x if x in top_5 else 'Other')\n",
    "\n",
    "top_5 = ['Williamsburg', 'Bedford-Stuyvesant', 'Bushwick', 'Upper West Side', 'Harlem']\n",
    "\n",
    "df.neighbourhood = df.neighbourhood.apply(lambda x: x if x in top_5 else 'Other')"
   ]
  },
  {
   "cell_type": "markdown",
   "id": "fdfb8f13",
   "metadata": {},
   "source": [
    "Now, bool columns will be normalized."
   ]
  },
  {
   "cell_type": "code",
   "execution_count": 9,
   "id": "1e65f01b",
   "metadata": {},
   "outputs": [],
   "source": [
    "# cleaning_fee has trues and falses, changing the dtype change it to 0 and 1\n",
    "df.cleaning_fee = df.cleaning_fee.astype(int)"
   ]
  },
  {
   "cell_type": "code",
   "execution_count": 10,
   "id": "2c8efecf",
   "metadata": {},
   "outputs": [],
   "source": [
    "# a nan in the reviews will be treated as no comments\n",
    "df.first_review.fillna(0, inplace=True)\n",
    "df.last_review.fillna(0, inplace=True)\n",
    "\n",
    "df.first_review = df.first_review.apply(lambda x: x if x == 0 else 1)\n",
    "df.last_review = df.last_review.apply(lambda x: x if x == 0 else 1)"
   ]
  },
  {
   "cell_type": "code",
   "execution_count": 11,
   "id": "01521d4a",
   "metadata": {},
   "outputs": [],
   "source": [
    "# changing t and f to 1/0, while also treating nan as 0\n",
    "df.host_has_profile_pic = df.host_has_profile_pic.apply(lambda x: 1 if x == 't' else 0)\n",
    "df.host_identity_verified = df.host_identity_verified.apply(lambda x: 1 if x == 't' else 0)\n",
    "df.instant_bookable = df.instant_bookable.apply(lambda x: 1 if x == 't' else 0)"
   ]
  },
  {
   "cell_type": "markdown",
   "id": "c070bc68",
   "metadata": {},
   "source": [
    "The column host_response_rate will be changed to float and nan is going to be treated as no response."
   ]
  },
  {
   "cell_type": "code",
   "execution_count": 12,
   "id": "c5c1c067",
   "metadata": {},
   "outputs": [],
   "source": [
    "df.host_response_rate.fillna(0, inplace=True)\n",
    "\n",
    "df.host_response_rate = df.host_response_rate.apply(lambda x: float(x.strip('%')) / 100 if x != 0 else x)"
   ]
  },
  {
   "cell_type": "markdown",
   "id": "71b7f65e",
   "metadata": {},
   "source": [
    "Finally,"
   ]
  },
  {
   "cell_type": "markdown",
   "id": "5661b7d4",
   "metadata": {},
   "source": [
    "# Training"
   ]
  },
  {
   "cell_type": "code",
   "execution_count": null,
   "id": "6afff494",
   "metadata": {},
   "outputs": [],
   "source": [
    "# "
   ]
  }
 ],
 "metadata": {
  "kernelspec": {
   "display_name": "Python 3 (ipykernel)",
   "language": "python",
   "name": "python3"
  },
  "language_info": {
   "codemirror_mode": {
    "name": "ipython",
    "version": 3
   },
   "file_extension": ".py",
   "mimetype": "text/x-python",
   "name": "python",
   "nbconvert_exporter": "python",
   "pygments_lexer": "ipython3",
   "version": "3.11.4"
  }
 },
 "nbformat": 4,
 "nbformat_minor": 5
}
