{
 "cells": [
  {
   "cell_type": "markdown",
   "id": "18c46f64",
   "metadata": {},
   "source": [
    "# Transformation pipeline"
   ]
  },
  {
   "cell_type": "code",
   "execution_count": 1,
   "id": "2d14faf0",
   "metadata": {},
   "outputs": [],
   "source": [
    "# libraries\n",
    "import pandas as pd\n",
    "import numpy as np"
   ]
  },
  {
   "cell_type": "code",
   "execution_count": 3,
   "id": "36f98617",
   "metadata": {},
   "outputs": [],
   "source": [
    "df = pd.read_csv('../data/train.csv')"
   ]
  },
  {
   "cell_type": "code",
   "execution_count": 4,
   "id": "9a8e8901",
   "metadata": {},
   "outputs": [],
   "source": [
    "# drop columns with too many unique values\n",
    "\n",
    "df.drop(['id', 'zipcode', 'thumbnail_url', 'amenities', 'description', 'host_since', 'name','longitude', 'latitude'],\n",
    "        axis=1, inplace=True)"
   ]
  },
  {
   "cell_type": "markdown",
   "id": "194f02f1",
   "metadata": {},
   "source": [
    "First, the categorical columns with too many values are going to be categorized according to their top 5 values."
   ]
  },
  {
   "cell_type": "code",
   "execution_count": 6,
   "id": "5fcf8c21",
   "metadata": {},
   "outputs": [
    {
     "data": {
      "text/plain": [
       "Apartment      39158\n",
       "House          13295\n",
       "Condominium     2103\n",
       "Townhouse       1341\n",
       "Loft             992\n",
       "Name: property_type, dtype: int64"
      ]
     },
     "execution_count": 6,
     "metadata": {},
     "output_type": "execute_result"
    }
   ],
   "source": [
    "df.property_type.value_counts()[:5]"
   ]
  },
  {
   "cell_type": "code",
   "execution_count": 7,
   "id": "2dbde4d5",
   "metadata": {},
   "outputs": [
    {
     "data": {
      "text/plain": [
       "Williamsburg          2276\n",
       "Bedford-Stuyvesant    1686\n",
       "Bushwick              1281\n",
       "Upper West Side       1151\n",
       "Harlem                1112\n",
       "Name: neighbourhood, dtype: int64"
      ]
     },
     "execution_count": 7,
     "metadata": {},
     "output_type": "execute_result"
    }
   ],
   "source": [
    "df.neighbourhood.value_counts()[:5]"
   ]
  },
  {
   "cell_type": "code",
   "execution_count": 8,
   "id": "59b0efa1",
   "metadata": {},
   "outputs": [],
   "source": [
    "top_5 = ['Apartment', 'House', 'Condominium', 'Townhouse', 'Loft']\n",
    "\n",
    "df.property_type = df.property_type.apply(lambda x: x if x in top_5 else 'Other')\n",
    "\n",
    "top_5 = ['Williamsburg', 'Bedford-Stuyvesant', 'Bushwick', 'Upper West Side', 'Harlem']\n",
    "\n",
    "df.neighbourhood = df.neighbourhood.apply(lambda x: x if x in top_5 else 'Other')"
   ]
  },
  {
   "cell_type": "markdown",
   "id": "27db0fde",
   "metadata": {},
   "source": [
    "Now, bool columns will be normalized."
   ]
  },
  {
   "cell_type": "code",
   "execution_count": 9,
   "id": "f79a92fd",
   "metadata": {},
   "outputs": [],
   "source": [
    "# cleaning_fee has trues and falses, changing the dtype change it to 0 and 1\n",
    "df.cleaning_fee = df.cleaning_fee.astype(int)"
   ]
  },
  {
   "cell_type": "code",
   "execution_count": 10,
   "id": "b34036a6",
   "metadata": {},
   "outputs": [],
   "source": [
    "# a nan in the reviews will be treated as no comments\n",
    "df.first_review.fillna(0, inplace=True)\n",
    "df.last_review.fillna(0, inplace=True)\n",
    "\n",
    "df.first_review = df.first_review.apply(lambda x: x if x == 0 else 1)\n",
    "df.last_review = df.last_review.apply(lambda x: x if x == 0 else 1)"
   ]
  },
  {
   "cell_type": "code",
   "execution_count": 11,
   "id": "381e15cf",
   "metadata": {},
   "outputs": [],
   "source": [
    "# changing t and f to 1/0, while also treating nan as 0\n",
    "df.host_has_profile_pic = df.host_has_profile_pic.apply(lambda x: 1 if x == 't' else 0)\n",
    "df.host_identity_verified = df.host_identity_verified.apply(lambda x: 1 if x == 't' else 0)\n",
    "df.instant_bookable = df.instant_bookable.apply(lambda x: 1 if x == 't' else 0)"
   ]
  },
  {
   "cell_type": "markdown",
   "id": "db6c7008",
   "metadata": {},
   "source": [
    "The column host_response_rate"
   ]
  },
  {
   "cell_type": "code",
   "execution_count": null,
   "id": "0752e522",
   "metadata": {},
   "outputs": [],
   "source": [
    "df.host_response_rate.fillna(0, inplace=True)\n",
    "\n",
    "df.host_response_rate = df.host_response_rate.apply(lambda x: float(x.strip('%')) / 100 if x != 0 else x)"
   ]
  }
 ],
 "metadata": {
  "kernelspec": {
   "display_name": "Python 3 (ipykernel)",
   "language": "python",
   "name": "python3"
  },
  "language_info": {
   "codemirror_mode": {
    "name": "ipython",
    "version": 3
   },
   "file_extension": ".py",
   "mimetype": "text/x-python",
   "name": "python",
   "nbconvert_exporter": "python",
   "pygments_lexer": "ipython3",
   "version": "3.11.4"
  }
 },
 "nbformat": 4,
 "nbformat_minor": 5
}
